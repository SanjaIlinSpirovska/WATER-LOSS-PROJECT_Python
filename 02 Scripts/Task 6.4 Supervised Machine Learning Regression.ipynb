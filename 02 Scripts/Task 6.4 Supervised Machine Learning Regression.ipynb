{
 "cells": [
  {
   "cell_type": "markdown",
   "id": "7b412de6",
   "metadata": {},
   "source": [
    "# Supervised Machine Learning"
   ]
  },
  {
   "cell_type": "markdown",
   "id": "aad408e7",
   "metadata": {},
   "source": [
    "## This script contains the following points:\n",
    "### 01. Importing libraries\n",
    "### 02. Importing Data\n",
    "### 03. Data prep for regression analysis \n",
    "### 04. Binary logistic regression analysis\n",
    "### 05. Imbalanced class handling, using SMOTE (Synthetic Minority Over-Sampling Technique) \n",
    "### 06. Random Forest Algorithm\n",
    "### 07. XGBoost Algorithm"
   ]
  },
  {
   "cell_type": "markdown",
   "id": "a2986660",
   "metadata": {},
   "source": [
    "## 01. Importing libraries"
   ]
  },
  {
   "cell_type": "code",
   "execution_count": 1,
   "id": "27ec73e3",
   "metadata": {},
   "outputs": [],
   "source": [
    "# Import libraries\n",
    "import pandas as pd\n",
    "import numpy as np\n",
    "import seaborn as sns\n",
    "import matplotlib\n",
    "import matplotlib.pyplot as plt\n",
    "import os\n",
    "import sklearn\n",
    "from sklearn.model_selection import train_test_split \n",
    "from sklearn.linear_model import LogisticRegression\n",
    "from sklearn.metrics import accuracy_score, classification_report, confusion_matrix\n",
    "from sklearn.ensemble import RandomForestClassifier\n",
    "from sklearn.model_selection import train_test_split\n",
    "import xgboost as xgb"
   ]
  },
  {
   "cell_type": "markdown",
   "id": "c9c773b5",
   "metadata": {},
   "source": [
    "## 02. Importing Data"
   ]
  },
  {
   "cell_type": "code",
   "execution_count": 2,
   "id": "ad7f6103",
   "metadata": {},
   "outputs": [],
   "source": [
    "# Define path\n",
    "%run env_1.ipynb\n",
    "path = path_1"
   ]
  },
  {
   "cell_type": "code",
   "execution_count": 53,
   "id": "23af038b",
   "metadata": {},
   "outputs": [],
   "source": [
    "#Import dataset\n",
    "df_pipelines_failure = pd.read_excel(os.path.join(path, '02 Data', 'Prepared Data', 'pipes_failures_final.xlsx'), index_col = False)"
   ]
  },
  {
   "cell_type": "code",
   "execution_count": 54,
   "id": "5f38396a",
   "metadata": {},
   "outputs": [
    {
     "data": {
      "text/plain": [
       "Index(['Unnamed: 0', 'pipe_age_2013', 'length', 'diameter', 'material',\n",
       "       'soil_consistency', 'soil_aggressivity', 'groundwater', 'traffic_load',\n",
       "       'stray_electricity', 'cause_of_damage', 'failure_occurred_on_pipe'],\n",
       "      dtype='object')"
      ]
     },
     "execution_count": 54,
     "metadata": {},
     "output_type": "execute_result"
    }
   ],
   "source": [
    "df_pipelines_failure.columns"
   ]
  },
  {
   "cell_type": "code",
   "execution_count": 55,
   "id": "23ca3fa5",
   "metadata": {},
   "outputs": [
    {
     "data": {
      "text/html": [
       "<div>\n",
       "<style scoped>\n",
       "    .dataframe tbody tr th:only-of-type {\n",
       "        vertical-align: middle;\n",
       "    }\n",
       "\n",
       "    .dataframe tbody tr th {\n",
       "        vertical-align: top;\n",
       "    }\n",
       "\n",
       "    .dataframe thead th {\n",
       "        text-align: right;\n",
       "    }\n",
       "</style>\n",
       "<table border=\"1\" class=\"dataframe\">\n",
       "  <thead>\n",
       "    <tr style=\"text-align: right;\">\n",
       "      <th></th>\n",
       "      <th>Unnamed: 0</th>\n",
       "      <th>pipe_age_2013</th>\n",
       "      <th>length</th>\n",
       "      <th>diameter</th>\n",
       "      <th>material</th>\n",
       "      <th>soil_consistency</th>\n",
       "      <th>soil_aggressivity</th>\n",
       "      <th>groundwater</th>\n",
       "      <th>traffic_load</th>\n",
       "      <th>stray_electricity</th>\n",
       "      <th>cause_of_damage</th>\n",
       "      <th>failure_occurred_on_pipe</th>\n",
       "    </tr>\n",
       "  </thead>\n",
       "  <tbody>\n",
       "    <tr>\n",
       "      <th>0</th>\n",
       "      <td>0</td>\n",
       "      <td>NaN</td>\n",
       "      <td>0.177445</td>\n",
       "      <td>600.0</td>\n",
       "      <td>4</td>\n",
       "      <td>4</td>\n",
       "      <td>3</td>\n",
       "      <td>1.0</td>\n",
       "      <td>1</td>\n",
       "      <td>4</td>\n",
       "      <td>NaN</td>\n",
       "      <td>0</td>\n",
       "    </tr>\n",
       "    <tr>\n",
       "      <th>1</th>\n",
       "      <td>1</td>\n",
       "      <td>NaN</td>\n",
       "      <td>0.143000</td>\n",
       "      <td>600.0</td>\n",
       "      <td>4</td>\n",
       "      <td>4</td>\n",
       "      <td>3</td>\n",
       "      <td>1.0</td>\n",
       "      <td>1</td>\n",
       "      <td>3</td>\n",
       "      <td>NaN</td>\n",
       "      <td>0</td>\n",
       "    </tr>\n",
       "    <tr>\n",
       "      <th>2</th>\n",
       "      <td>2</td>\n",
       "      <td>NaN</td>\n",
       "      <td>0.143000</td>\n",
       "      <td>600.0</td>\n",
       "      <td>4</td>\n",
       "      <td>4</td>\n",
       "      <td>3</td>\n",
       "      <td>1.0</td>\n",
       "      <td>1</td>\n",
       "      <td>3</td>\n",
       "      <td>NaN</td>\n",
       "      <td>0</td>\n",
       "    </tr>\n",
       "    <tr>\n",
       "      <th>3</th>\n",
       "      <td>3</td>\n",
       "      <td>NaN</td>\n",
       "      <td>0.185747</td>\n",
       "      <td>600.0</td>\n",
       "      <td>4</td>\n",
       "      <td>4</td>\n",
       "      <td>3</td>\n",
       "      <td>1.0</td>\n",
       "      <td>1</td>\n",
       "      <td>4</td>\n",
       "      <td>NaN</td>\n",
       "      <td>0</td>\n",
       "    </tr>\n",
       "    <tr>\n",
       "      <th>4</th>\n",
       "      <td>4</td>\n",
       "      <td>NaN</td>\n",
       "      <td>0.143000</td>\n",
       "      <td>600.0</td>\n",
       "      <td>4</td>\n",
       "      <td>4</td>\n",
       "      <td>3</td>\n",
       "      <td>1.0</td>\n",
       "      <td>1</td>\n",
       "      <td>3</td>\n",
       "      <td>NaN</td>\n",
       "      <td>0</td>\n",
       "    </tr>\n",
       "  </tbody>\n",
       "</table>\n",
       "</div>"
      ],
      "text/plain": [
       "   Unnamed: 0  pipe_age_2013    length  diameter  material  soil_consistency  \\\n",
       "0           0            NaN  0.177445     600.0         4                 4   \n",
       "1           1            NaN  0.143000     600.0         4                 4   \n",
       "2           2            NaN  0.143000     600.0         4                 4   \n",
       "3           3            NaN  0.185747     600.0         4                 4   \n",
       "4           4            NaN  0.143000     600.0         4                 4   \n",
       "\n",
       "   soil_aggressivity  groundwater  traffic_load  stray_electricity  \\\n",
       "0                  3          1.0             1                  4   \n",
       "1                  3          1.0             1                  3   \n",
       "2                  3          1.0             1                  3   \n",
       "3                  3          1.0             1                  4   \n",
       "4                  3          1.0             1                  3   \n",
       "\n",
       "   cause_of_damage  failure_occurred_on_pipe  \n",
       "0              NaN                         0  \n",
       "1              NaN                         0  \n",
       "2              NaN                         0  \n",
       "3              NaN                         0  \n",
       "4              NaN                         0  "
      ]
     },
     "execution_count": 55,
     "metadata": {},
     "output_type": "execute_result"
    }
   ],
   "source": [
    "df_pipelines_failure.head(5)"
   ]
  },
  {
   "cell_type": "markdown",
   "id": "5bde5357",
   "metadata": {},
   "source": [
    "## 03. Data prep for regression analysis "
   ]
  },
  {
   "cell_type": "markdown",
   "id": "bf90b2e6",
   "metadata": {},
   "source": [
    "### Null Hypothesis (H0): \n",
    "### \"The combination of  unfavorable soil consistency and unfavorable traffic loading leads to occurrence of failures on cast iron pipes. The combination of unfavorable soil aggressivity and unfavorable position of stray electricity leads to occurrence of failures on ductile cast iron and steel pipes\""
   ]
  },
  {
   "cell_type": "code",
   "execution_count": 56,
   "id": "9223626d",
   "metadata": {},
   "outputs": [],
   "source": [
    "# Create independent and dependent variables\n",
    "X = df_pipelines_failure[['soil_consistency', 'traffic_load', 'soil_aggressivity', 'stray_electricity']]\n",
    "y = df_pipelines_failure['failure_occurred_on_pipe']"
   ]
  },
  {
   "cell_type": "code",
   "execution_count": 57,
   "id": "68d4e78c",
   "metadata": {
    "scrolled": true
   },
   "outputs": [
    {
     "data": {
      "text/html": [
       "<div>\n",
       "<style scoped>\n",
       "    .dataframe tbody tr th:only-of-type {\n",
       "        vertical-align: middle;\n",
       "    }\n",
       "\n",
       "    .dataframe tbody tr th {\n",
       "        vertical-align: top;\n",
       "    }\n",
       "\n",
       "    .dataframe thead th {\n",
       "        text-align: right;\n",
       "    }\n",
       "</style>\n",
       "<table border=\"1\" class=\"dataframe\">\n",
       "  <thead>\n",
       "    <tr style=\"text-align: right;\">\n",
       "      <th></th>\n",
       "      <th>soil_consistency</th>\n",
       "      <th>traffic_load</th>\n",
       "      <th>soil_aggressivity</th>\n",
       "      <th>stray_electricity</th>\n",
       "    </tr>\n",
       "  </thead>\n",
       "  <tbody>\n",
       "    <tr>\n",
       "      <th>0</th>\n",
       "      <td>4</td>\n",
       "      <td>1</td>\n",
       "      <td>3</td>\n",
       "      <td>4</td>\n",
       "    </tr>\n",
       "    <tr>\n",
       "      <th>1</th>\n",
       "      <td>4</td>\n",
       "      <td>1</td>\n",
       "      <td>3</td>\n",
       "      <td>3</td>\n",
       "    </tr>\n",
       "    <tr>\n",
       "      <th>2</th>\n",
       "      <td>4</td>\n",
       "      <td>1</td>\n",
       "      <td>3</td>\n",
       "      <td>3</td>\n",
       "    </tr>\n",
       "    <tr>\n",
       "      <th>3</th>\n",
       "      <td>4</td>\n",
       "      <td>1</td>\n",
       "      <td>3</td>\n",
       "      <td>4</td>\n",
       "    </tr>\n",
       "    <tr>\n",
       "      <th>4</th>\n",
       "      <td>4</td>\n",
       "      <td>1</td>\n",
       "      <td>3</td>\n",
       "      <td>3</td>\n",
       "    </tr>\n",
       "    <tr>\n",
       "      <th>...</th>\n",
       "      <td>...</td>\n",
       "      <td>...</td>\n",
       "      <td>...</td>\n",
       "      <td>...</td>\n",
       "    </tr>\n",
       "    <tr>\n",
       "      <th>79341</th>\n",
       "      <td>1</td>\n",
       "      <td>1</td>\n",
       "      <td>1</td>\n",
       "      <td>4</td>\n",
       "    </tr>\n",
       "    <tr>\n",
       "      <th>79342</th>\n",
       "      <td>0</td>\n",
       "      <td>1</td>\n",
       "      <td>0</td>\n",
       "      <td>4</td>\n",
       "    </tr>\n",
       "    <tr>\n",
       "      <th>79343</th>\n",
       "      <td>1</td>\n",
       "      <td>1</td>\n",
       "      <td>1</td>\n",
       "      <td>4</td>\n",
       "    </tr>\n",
       "    <tr>\n",
       "      <th>79344</th>\n",
       "      <td>0</td>\n",
       "      <td>1</td>\n",
       "      <td>4</td>\n",
       "      <td>4</td>\n",
       "    </tr>\n",
       "    <tr>\n",
       "      <th>79345</th>\n",
       "      <td>0</td>\n",
       "      <td>1</td>\n",
       "      <td>4</td>\n",
       "      <td>4</td>\n",
       "    </tr>\n",
       "  </tbody>\n",
       "</table>\n",
       "<p>79346 rows × 4 columns</p>\n",
       "</div>"
      ],
      "text/plain": [
       "       soil_consistency  traffic_load  soil_aggressivity  stray_electricity\n",
       "0                     4             1                  3                  4\n",
       "1                     4             1                  3                  3\n",
       "2                     4             1                  3                  3\n",
       "3                     4             1                  3                  4\n",
       "4                     4             1                  3                  3\n",
       "...                 ...           ...                ...                ...\n",
       "79341                 1             1                  1                  4\n",
       "79342                 0             1                  0                  4\n",
       "79343                 1             1                  1                  4\n",
       "79344                 0             1                  4                  4\n",
       "79345                 0             1                  4                  4\n",
       "\n",
       "[79346 rows x 4 columns]"
      ]
     },
     "execution_count": 57,
     "metadata": {},
     "output_type": "execute_result"
    }
   ],
   "source": [
    "X"
   ]
  },
  {
   "cell_type": "code",
   "execution_count": 58,
   "id": "723b51cf",
   "metadata": {
    "scrolled": false
   },
   "outputs": [
    {
     "data": {
      "text/plain": [
       "0        0\n",
       "1        0\n",
       "2        0\n",
       "3        0\n",
       "4        0\n",
       "        ..\n",
       "79341    0\n",
       "79342    0\n",
       "79343    0\n",
       "79344    0\n",
       "79345    0\n",
       "Name: failure_occurred_on_pipe, Length: 79346, dtype: int64"
      ]
     },
     "execution_count": 58,
     "metadata": {},
     "output_type": "execute_result"
    }
   ],
   "source": [
    "y"
   ]
  },
  {
   "cell_type": "code",
   "execution_count": 59,
   "id": "b1e206ff",
   "metadata": {
    "scrolled": true
   },
   "outputs": [
    {
     "name": "stdout",
     "output_type": "stream",
     "text": [
      "Unique values in soil_consistency: [4 0 1 5 3 2]\n",
      "Unique values in traffic_load: [1 2 3 4 5]\n",
      "Unique values in soil_aggressivity: [3 4 1 2 0]\n",
      "Unique values in stray_electricity: [4 3 2 1]\n"
     ]
    }
   ],
   "source": [
    "# Inspect Unique Values:\n",
    "for column in X.columns:\n",
    "    print(f\"Unique values in {column}: {X[column].unique()}\")"
   ]
  },
  {
   "cell_type": "code",
   "execution_count": 60,
   "id": "db8d9479",
   "metadata": {},
   "outputs": [],
   "source": [
    "# Filter rows where soil_consistency and soil_aggressivity are not equal to 0, because code 0 is 'unknowen'\n",
    "filtered_rows = (X['soil_consistency'] != 0) & (X['soil_aggressivity'] != 0)\n",
    "X = X[filtered_rows]\n",
    "y = y[filtered_rows]"
   ]
  },
  {
   "cell_type": "code",
   "execution_count": 61,
   "id": "4a62b39f",
   "metadata": {},
   "outputs": [
    {
     "name": "stdout",
     "output_type": "stream",
     "text": [
      "soil_consistency     0\n",
      "traffic_load         0\n",
      "soil_aggressivity    0\n",
      "stray_electricity    0\n",
      "dtype: int64\n"
     ]
    }
   ],
   "source": [
    "# Check for NaN Values:\n",
    "print(X.isnull().sum())"
   ]
  },
  {
   "cell_type": "markdown",
   "id": "b519f01f",
   "metadata": {},
   "source": [
    "### Note:\n",
    "### I've chosen to employ binary logistic regression for this analysis since my dependent variable, 'failure_occurred_on_pipe,' takes on binary values (0 or 1). Meanwhile, my independent variables are categorical in nature. Logistic regression is well-suited for scenarios where the outcome is binary, and it commonly involves converting categorical variables into dummy variables using a process known as one-hot encoding."
   ]
  },
  {
   "cell_type": "code",
   "execution_count": 62,
   "id": "1fb38858",
   "metadata": {},
   "outputs": [],
   "source": [
    "# Convert categorical variables to dummy variables (one-hot encoding)\n",
    "X = pd.get_dummies(X, drop_first=True, columns=['soil_consistency', 'traffic_load', 'soil_aggressivity', 'stray_electricity'], prefix=['soil_consistency', 'traffic_load', 'soil_aggressivity', 'stray_electricity'])"
   ]
  },
  {
   "cell_type": "code",
   "execution_count": 63,
   "id": "01125b92",
   "metadata": {
    "scrolled": true
   },
   "outputs": [
    {
     "data": {
      "text/html": [
       "<div>\n",
       "<style scoped>\n",
       "    .dataframe tbody tr th:only-of-type {\n",
       "        vertical-align: middle;\n",
       "    }\n",
       "\n",
       "    .dataframe tbody tr th {\n",
       "        vertical-align: top;\n",
       "    }\n",
       "\n",
       "    .dataframe thead th {\n",
       "        text-align: right;\n",
       "    }\n",
       "</style>\n",
       "<table border=\"1\" class=\"dataframe\">\n",
       "  <thead>\n",
       "    <tr style=\"text-align: right;\">\n",
       "      <th></th>\n",
       "      <th>soil_consistency_2</th>\n",
       "      <th>soil_consistency_3</th>\n",
       "      <th>soil_consistency_4</th>\n",
       "      <th>soil_consistency_5</th>\n",
       "      <th>traffic_load_2</th>\n",
       "      <th>traffic_load_3</th>\n",
       "      <th>traffic_load_4</th>\n",
       "      <th>traffic_load_5</th>\n",
       "      <th>soil_aggressivity_2</th>\n",
       "      <th>soil_aggressivity_3</th>\n",
       "      <th>soil_aggressivity_4</th>\n",
       "      <th>stray_electricity_2</th>\n",
       "      <th>stray_electricity_3</th>\n",
       "      <th>stray_electricity_4</th>\n",
       "    </tr>\n",
       "  </thead>\n",
       "  <tbody>\n",
       "    <tr>\n",
       "      <th>0</th>\n",
       "      <td>0</td>\n",
       "      <td>0</td>\n",
       "      <td>1</td>\n",
       "      <td>0</td>\n",
       "      <td>0</td>\n",
       "      <td>0</td>\n",
       "      <td>0</td>\n",
       "      <td>0</td>\n",
       "      <td>0</td>\n",
       "      <td>1</td>\n",
       "      <td>0</td>\n",
       "      <td>0</td>\n",
       "      <td>0</td>\n",
       "      <td>1</td>\n",
       "    </tr>\n",
       "    <tr>\n",
       "      <th>1</th>\n",
       "      <td>0</td>\n",
       "      <td>0</td>\n",
       "      <td>1</td>\n",
       "      <td>0</td>\n",
       "      <td>0</td>\n",
       "      <td>0</td>\n",
       "      <td>0</td>\n",
       "      <td>0</td>\n",
       "      <td>0</td>\n",
       "      <td>1</td>\n",
       "      <td>0</td>\n",
       "      <td>0</td>\n",
       "      <td>1</td>\n",
       "      <td>0</td>\n",
       "    </tr>\n",
       "    <tr>\n",
       "      <th>2</th>\n",
       "      <td>0</td>\n",
       "      <td>0</td>\n",
       "      <td>1</td>\n",
       "      <td>0</td>\n",
       "      <td>0</td>\n",
       "      <td>0</td>\n",
       "      <td>0</td>\n",
       "      <td>0</td>\n",
       "      <td>0</td>\n",
       "      <td>1</td>\n",
       "      <td>0</td>\n",
       "      <td>0</td>\n",
       "      <td>1</td>\n",
       "      <td>0</td>\n",
       "    </tr>\n",
       "    <tr>\n",
       "      <th>3</th>\n",
       "      <td>0</td>\n",
       "      <td>0</td>\n",
       "      <td>1</td>\n",
       "      <td>0</td>\n",
       "      <td>0</td>\n",
       "      <td>0</td>\n",
       "      <td>0</td>\n",
       "      <td>0</td>\n",
       "      <td>0</td>\n",
       "      <td>1</td>\n",
       "      <td>0</td>\n",
       "      <td>0</td>\n",
       "      <td>0</td>\n",
       "      <td>1</td>\n",
       "    </tr>\n",
       "    <tr>\n",
       "      <th>4</th>\n",
       "      <td>0</td>\n",
       "      <td>0</td>\n",
       "      <td>1</td>\n",
       "      <td>0</td>\n",
       "      <td>0</td>\n",
       "      <td>0</td>\n",
       "      <td>0</td>\n",
       "      <td>0</td>\n",
       "      <td>0</td>\n",
       "      <td>1</td>\n",
       "      <td>0</td>\n",
       "      <td>0</td>\n",
       "      <td>1</td>\n",
       "      <td>0</td>\n",
       "    </tr>\n",
       "    <tr>\n",
       "      <th>...</th>\n",
       "      <td>...</td>\n",
       "      <td>...</td>\n",
       "      <td>...</td>\n",
       "      <td>...</td>\n",
       "      <td>...</td>\n",
       "      <td>...</td>\n",
       "      <td>...</td>\n",
       "      <td>...</td>\n",
       "      <td>...</td>\n",
       "      <td>...</td>\n",
       "      <td>...</td>\n",
       "      <td>...</td>\n",
       "      <td>...</td>\n",
       "      <td>...</td>\n",
       "    </tr>\n",
       "    <tr>\n",
       "      <th>79336</th>\n",
       "      <td>0</td>\n",
       "      <td>0</td>\n",
       "      <td>1</td>\n",
       "      <td>0</td>\n",
       "      <td>0</td>\n",
       "      <td>0</td>\n",
       "      <td>0</td>\n",
       "      <td>0</td>\n",
       "      <td>0</td>\n",
       "      <td>1</td>\n",
       "      <td>0</td>\n",
       "      <td>0</td>\n",
       "      <td>0</td>\n",
       "      <td>0</td>\n",
       "    </tr>\n",
       "    <tr>\n",
       "      <th>79337</th>\n",
       "      <td>0</td>\n",
       "      <td>0</td>\n",
       "      <td>0</td>\n",
       "      <td>0</td>\n",
       "      <td>0</td>\n",
       "      <td>0</td>\n",
       "      <td>0</td>\n",
       "      <td>0</td>\n",
       "      <td>0</td>\n",
       "      <td>0</td>\n",
       "      <td>0</td>\n",
       "      <td>0</td>\n",
       "      <td>0</td>\n",
       "      <td>1</td>\n",
       "    </tr>\n",
       "    <tr>\n",
       "      <th>79340</th>\n",
       "      <td>0</td>\n",
       "      <td>1</td>\n",
       "      <td>0</td>\n",
       "      <td>0</td>\n",
       "      <td>0</td>\n",
       "      <td>0</td>\n",
       "      <td>0</td>\n",
       "      <td>0</td>\n",
       "      <td>0</td>\n",
       "      <td>1</td>\n",
       "      <td>0</td>\n",
       "      <td>0</td>\n",
       "      <td>0</td>\n",
       "      <td>1</td>\n",
       "    </tr>\n",
       "    <tr>\n",
       "      <th>79341</th>\n",
       "      <td>0</td>\n",
       "      <td>0</td>\n",
       "      <td>0</td>\n",
       "      <td>0</td>\n",
       "      <td>0</td>\n",
       "      <td>0</td>\n",
       "      <td>0</td>\n",
       "      <td>0</td>\n",
       "      <td>0</td>\n",
       "      <td>0</td>\n",
       "      <td>0</td>\n",
       "      <td>0</td>\n",
       "      <td>0</td>\n",
       "      <td>1</td>\n",
       "    </tr>\n",
       "    <tr>\n",
       "      <th>79343</th>\n",
       "      <td>0</td>\n",
       "      <td>0</td>\n",
       "      <td>0</td>\n",
       "      <td>0</td>\n",
       "      <td>0</td>\n",
       "      <td>0</td>\n",
       "      <td>0</td>\n",
       "      <td>0</td>\n",
       "      <td>0</td>\n",
       "      <td>0</td>\n",
       "      <td>0</td>\n",
       "      <td>0</td>\n",
       "      <td>0</td>\n",
       "      <td>1</td>\n",
       "    </tr>\n",
       "  </tbody>\n",
       "</table>\n",
       "<p>59615 rows × 14 columns</p>\n",
       "</div>"
      ],
      "text/plain": [
       "       soil_consistency_2  soil_consistency_3  soil_consistency_4  \\\n",
       "0                       0                   0                   1   \n",
       "1                       0                   0                   1   \n",
       "2                       0                   0                   1   \n",
       "3                       0                   0                   1   \n",
       "4                       0                   0                   1   \n",
       "...                   ...                 ...                 ...   \n",
       "79336                   0                   0                   1   \n",
       "79337                   0                   0                   0   \n",
       "79340                   0                   1                   0   \n",
       "79341                   0                   0                   0   \n",
       "79343                   0                   0                   0   \n",
       "\n",
       "       soil_consistency_5  traffic_load_2  traffic_load_3  traffic_load_4  \\\n",
       "0                       0               0               0               0   \n",
       "1                       0               0               0               0   \n",
       "2                       0               0               0               0   \n",
       "3                       0               0               0               0   \n",
       "4                       0               0               0               0   \n",
       "...                   ...             ...             ...             ...   \n",
       "79336                   0               0               0               0   \n",
       "79337                   0               0               0               0   \n",
       "79340                   0               0               0               0   \n",
       "79341                   0               0               0               0   \n",
       "79343                   0               0               0               0   \n",
       "\n",
       "       traffic_load_5  soil_aggressivity_2  soil_aggressivity_3  \\\n",
       "0                   0                    0                    1   \n",
       "1                   0                    0                    1   \n",
       "2                   0                    0                    1   \n",
       "3                   0                    0                    1   \n",
       "4                   0                    0                    1   \n",
       "...               ...                  ...                  ...   \n",
       "79336               0                    0                    1   \n",
       "79337               0                    0                    0   \n",
       "79340               0                    0                    1   \n",
       "79341               0                    0                    0   \n",
       "79343               0                    0                    0   \n",
       "\n",
       "       soil_aggressivity_4  stray_electricity_2  stray_electricity_3  \\\n",
       "0                        0                    0                    0   \n",
       "1                        0                    0                    1   \n",
       "2                        0                    0                    1   \n",
       "3                        0                    0                    0   \n",
       "4                        0                    0                    1   \n",
       "...                    ...                  ...                  ...   \n",
       "79336                    0                    0                    0   \n",
       "79337                    0                    0                    0   \n",
       "79340                    0                    0                    0   \n",
       "79341                    0                    0                    0   \n",
       "79343                    0                    0                    0   \n",
       "\n",
       "       stray_electricity_4  \n",
       "0                        1  \n",
       "1                        0  \n",
       "2                        0  \n",
       "3                        1  \n",
       "4                        0  \n",
       "...                    ...  \n",
       "79336                    0  \n",
       "79337                    1  \n",
       "79340                    1  \n",
       "79341                    1  \n",
       "79343                    1  \n",
       "\n",
       "[59615 rows x 14 columns]"
      ]
     },
     "execution_count": 63,
     "metadata": {},
     "output_type": "execute_result"
    }
   ],
   "source": [
    "X"
   ]
  },
  {
   "cell_type": "code",
   "execution_count": 64,
   "id": "8db2a5f8",
   "metadata": {
    "scrolled": true
   },
   "outputs": [],
   "source": [
    "# Split data into a training set and a test set.\n",
    "X_train, X_test, y_train, y_test = train_test_split(X, y, test_size=0.3, random_state=0)"
   ]
  },
  {
   "cell_type": "markdown",
   "id": "18787bf1",
   "metadata": {},
   "source": [
    "## 4. Binary Logistic Regression "
   ]
  },
  {
   "cell_type": "markdown",
   "id": "c0323011",
   "metadata": {},
   "source": [
    "## 4.1. Binary Logistic Regression for dataset 1 (including all pipes and the following environmental factors: 'soil_consistency', 'traffic_load', 'soil_aggressivity', 'stray_electricity)"
   ]
  },
  {
   "cell_type": "markdown",
   "id": "ea88cabe",
   "metadata": {},
   "source": [
    "#### Note: I will  use binary logistic regression for this scenario, because my dependent variable 'failure_occurred_on_pipe' is binary (0 or 1) and my independent variables are categorical. "
   ]
  },
  {
   "cell_type": "code",
   "execution_count": 65,
   "id": "c31c6228",
   "metadata": {},
   "outputs": [],
   "source": [
    "# Create a logistic regression model\n",
    "logreg_1 = LogisticRegression()"
   ]
  },
  {
   "cell_type": "code",
   "execution_count": 66,
   "id": "78f21a25",
   "metadata": {},
   "outputs": [],
   "source": [
    "# Fit the model on the training data\n",
    "model_1 = logreg_1.fit(X_train, y_train)"
   ]
  },
  {
   "cell_type": "code",
   "execution_count": 67,
   "id": "8cb28942",
   "metadata": {},
   "outputs": [],
   "source": [
    "# Make predictions on the test set\n",
    "y_pred_1 = logreg_1.predict(X_test)"
   ]
  },
  {
   "cell_type": "code",
   "execution_count": 68,
   "id": "ca640211",
   "metadata": {
    "scrolled": false
   },
   "outputs": [
    {
     "name": "stdout",
     "output_type": "stream",
     "text": [
      "Coefficients:\n",
      "                     Coefficient\n",
      "soil_consistency_2      0.150100\n",
      "soil_consistency_3     -0.155777\n",
      "soil_consistency_4     -0.126680\n",
      "soil_consistency_5      0.103574\n",
      "traffic_load_2         -0.350974\n",
      "traffic_load_3         -0.112109\n",
      "traffic_load_4         -0.668472\n",
      "traffic_load_5         -0.280276\n",
      "soil_aggressivity_2     0.275817\n",
      "soil_aggressivity_3    -0.099557\n",
      "soil_aggressivity_4     0.707204\n",
      "stray_electricity_2    -0.240358\n",
      "stray_electricity_3     0.448227\n",
      "stray_electricity_4     0.145985\n",
      "\n",
      "Odds Ratios:\n",
      "                     Odds Ratio\n",
      "soil_consistency_2       1.1620\n",
      "soil_consistency_3       0.8557\n",
      "soil_consistency_4       0.8810\n",
      "soil_consistency_5       1.1091\n",
      "traffic_load_2           0.7040\n",
      "traffic_load_3           0.8939\n",
      "traffic_load_4           0.5125\n",
      "traffic_load_5           0.7556\n",
      "soil_aggressivity_2      1.3176\n",
      "soil_aggressivity_3      0.9052\n",
      "soil_aggressivity_4      2.0283\n",
      "stray_electricity_2      0.7863\n",
      "stray_electricity_3      1.5655\n",
      "stray_electricity_4      1.1572\n"
     ]
    }
   ],
   "source": [
    "# Get coefficients and odds ratios\n",
    "coefficients = pd.DataFrame(logreg_1.coef_[0], index=X.columns, columns=['Coefficient'])\n",
    "odds_ratios = pd.DataFrame({'Odds Ratio': np.round(np.exp(logreg_1.coef_[0]), 4)}, index=X.columns)\n",
    "\n",
    "# Print coefficients and odds ratios\n",
    "print(\"Coefficients:\")\n",
    "print(coefficients)\n",
    "print(\"\\nOdds Ratios:\")\n",
    "print(odds_ratios)"
   ]
  },
  {
   "cell_type": "markdown",
   "id": "0a08f205",
   "metadata": {},
   "source": [
    "#### Note: \n",
    "#### Codes for soil_consistency: 1= very low cohesive, 2= low cohesive, 3= moderately cohesive, 4= highly cohesive, 5= very highly cohesive\n",
    "#### Codes for soil_aggressivity: 1= Ia (low), 2= Ib (low), 3= II (moderately), 4= III (highly)\n",
    "#### Codes for traffic_load: 1= none, 2= only passenger cars, 3= low (<100 trucks), 4= medium (up to 500 trucks), 5= high (up to 1000 trucks)\n",
    "#### Codes for stray_electricity: 1= 0 - 1 m, 2= 1 - 5 m, 3= 5 - 10 m, 4= more than 10 m¶"
   ]
  },
  {
   "cell_type": "markdown",
   "id": "14349931",
   "metadata": {},
   "source": [
    "The coefficients and odds ratios provide insights into how each variable is associated with the likelihood of the event (in this case, 'failure_occurred_on_pipe' being 1). \n",
    "These interpretations are based on the assumption that the reference levels are very low cohesive soil consistency, no traffic, Ia (low) soil aggressivity, and stray electricity in the range of 0 - 1 m. An odds ratio greater than 1 indicates an increase in the odds of failure, while an odds ratio less than 1 indicates a decrease.\n",
    " \n",
    "### Here are some conclusions based on the coefficients and odds ratios:\n",
    "\n",
    "#### Soil Consistency:\n",
    "\n",
    "Low Cohesive (soil_consistency_2): It seems to increase the odds of failure, suggesting that areas with low cohesive soil might be more prone to failures compared to very low cohesive soil.\n",
    "Moderately Cohesive (soil_consistency_3): It appears to decrease the odds of failure, indicating that moderately cohesive soil is associated with a lower likelihood of failures compared to very low cohesive soil.\n",
    "Highly Cohesive (soil_consistency_4): The odds decrease, suggesting that highly cohesive soil is less likely to be associated with failures compared to very low cohesive soil.\n",
    "Very Highly Cohesive (soil_consistency_5): The odds increase, indicating that very highly cohesive soil might be associated with a higher likelihood of failures compared to very low cohesive soil.\n",
    "#### Traffic Load:\n",
    "\n",
    "Only Passenger Cars (traffic_load_2): It significantly decreases the odds of failure, suggesting that areas with only passenger cars might have a lower likelihood of failures compared to areas with no traffic.\n",
    "Low Traffic (traffic_load_3): It decreases the odds of failure, indicating that low traffic is associated with a lower likelihood of failures compared to no traffic.\n",
    "Medium Traffic (traffic_load_4): It significantly decreases the odds of failure, suggesting that areas with medium traffic might have a significantly lower likelihood of failures compared to no traffic.\n",
    "High Traffic (traffic_load_5): It decreases the odds of failure, indicating that high traffic is associated with a lower likelihood of failures compared to no traffic.\n",
    "#### Soil Aggressivity:\n",
    "\n",
    "Ib - Low (soil_aggressivity_2): It increases the odds of failure, suggesting that areas with Ib (low) soil aggressivity might be associated with a higher likelihood of failures compared to Ia (low).\n",
    "II - Moderately (soil_aggressivity_3): It decreases the odds of failure, indicating that areas with II (moderately) soil aggressivity might have a lower likelihood of failures compared to Ia (low).\n",
    "III - Highly (soil_aggressivity_4): It significantly increases the odds of failure, suggesting that areas with III (highly) soil aggressivity might have a significantly higher likelihood of failures compared to Ia (low).\n",
    "#### Stray Electricity:\n",
    "\n",
    "1 - 5 m (stray_electricity_2): It decreases the odds of failure, indicating that stray electricity in the range of 1 - 5 m is associated with a lower likelihood of failures compared to 0 - 1 m.\n",
    "5 - 10 m (stray_electricity_3): It increases the odds of failure, suggesting that stray electricity in the range of 5 - 10 m might be associated with a higher likelihood of failures compared to 0 - 1 m.\n",
    "More than 10 m (stray_electricity_4): It increases the odds of failure, indicating that stray electricity more than 10 m is associated with a higher likelihood of failures compared to 0 - 1 m.\n",
    "\n",
    "#### While one might expect that unfavorable soil consistency, such as highly to very highly cohesive soil should have the biggest impact on failure occurrence, we have mixed results where  low or very highly cohesive soil have the biggest impact. The similar scenario for the other environmental factors. These mixed results could be due to various factors, including interactions between variables, non-linear relationships, or multicollinearity. It might be worthwhile to further investigate the specific relationships and interactions between these factors to better understand the observed patterns.\n",
    "\n",
    "#### In summary, the interpretation of logistic regression results involves considering each level relative to the reference category, and sometimes the observed effects may not align with initial expectations. Further exploration and potentially more advanced modeling techniques may provide additional insights into the relationships between these variables."
   ]
  },
  {
   "cell_type": "code",
   "execution_count": 69,
   "id": "6d19075b",
   "metadata": {},
   "outputs": [
    {
     "name": "stdout",
     "output_type": "stream",
     "text": [
      "Accuracy: 0.9699748392507688\n",
      "\n",
      "Confusion Matrix:\n",
      " [[17348     0]\n",
      " [  537     0]]\n",
      "\n",
      "Classification Report:\n",
      "               precision    recall  f1-score   support\n",
      "\n",
      "           0       0.97      1.00      0.98     17348\n",
      "           1       0.00      0.00      0.00       537\n",
      "\n",
      "    accuracy                           0.97     17885\n",
      "   macro avg       0.48      0.50      0.49     17885\n",
      "weighted avg       0.94      0.97      0.96     17885\n",
      "\n"
     ]
    },
    {
     "name": "stderr",
     "output_type": "stream",
     "text": [
      "C:\\Users\\Sanja\\anaconda3\\Lib\\site-packages\\sklearn\\metrics\\_classification.py:1471: UndefinedMetricWarning: Precision and F-score are ill-defined and being set to 0.0 in labels with no predicted samples. Use `zero_division` parameter to control this behavior.\n",
      "  _warn_prf(average, modifier, msg_start, len(result))\n",
      "C:\\Users\\Sanja\\anaconda3\\Lib\\site-packages\\sklearn\\metrics\\_classification.py:1471: UndefinedMetricWarning: Precision and F-score are ill-defined and being set to 0.0 in labels with no predicted samples. Use `zero_division` parameter to control this behavior.\n",
      "  _warn_prf(average, modifier, msg_start, len(result))\n",
      "C:\\Users\\Sanja\\anaconda3\\Lib\\site-packages\\sklearn\\metrics\\_classification.py:1471: UndefinedMetricWarning: Precision and F-score are ill-defined and being set to 0.0 in labels with no predicted samples. Use `zero_division` parameter to control this behavior.\n",
      "  _warn_prf(average, modifier, msg_start, len(result))\n"
     ]
    }
   ],
   "source": [
    "# Evaluate the model\n",
    "print('Accuracy:', accuracy_score(y_test, y_pred_1))\n",
    "print('\\nConfusion Matrix:\\n', confusion_matrix(y_test, y_pred_1))\n",
    "print('\\nClassification Report:\\n', classification_report(y_test, y_pred_1))"
   ]
  },
  {
   "cell_type": "markdown",
   "id": "65265379",
   "metadata": {},
   "source": [
    "#### Note: there is 'the UndefinedMetricWarning' warning that is triggered because the  class 1 in the target variable has no predicted samples. "
   ]
  },
  {
   "cell_type": "markdown",
   "id": "14b68a7c",
   "metadata": {},
   "source": [
    "### Observation: \n",
    "The results show a high accuracy of 96.99%, but the confusion matrix and classification report reveal potential issues with the model's ability to predict the positive class (1).\n",
    "\n",
    "#### Accuracy: 96.99% accuracy means that the model correctly predicted the class for almost 97% of the instances. However, accuracy can be misleading, especially when dealing with imbalanced datasets.\n",
    "\n",
    "#### Confusion Matrix:\n",
    "\n",
    "True Positives (TP): 0\n",
    "False Positives (FP): 0\n",
    "True Negatives (TN): 17348\n",
    "False Negatives (FN): 537\n",
    "\n",
    "#### The model correctly identified all instances of the negative class (0) but failed to identify any instances of the positive class (1). This is evident from the confusion matrix and is reflected in the classification report.\n",
    "\n",
    "#### Classification Report:\n",
    "Precision: Precision for class 1 is 0, indicating that, of the instances predicted as positive, none were true positives.\n",
    "\n",
    "Recall (Sensitivity): Recall for class 1 is 0, suggesting that the model missed all instances of the positive class.\n",
    "\n",
    "F1-score: The F1-score for class 1 is 0, reflecting the poor performance in predicting the positive class.\n",
    "\n",
    "Support: The number of actual occurrences of each class in the specified dataset.\n",
    "The overall macro and weighted averages also highlight the imbalance in the classes.\n",
    "\n",
    "#### In summary, while the model has high accuracy, it's not performing well in identifying instances of the positive class. Further investigation is needed or exploring different modeling approaches."
   ]
  },
  {
   "cell_type": "code",
   "execution_count": 70,
   "id": "574780be",
   "metadata": {
    "scrolled": true
   },
   "outputs": [
    {
     "name": "stdout",
     "output_type": "stream",
     "text": [
      "       Actual  Predicted\n",
      "0           0          0\n",
      "1           0          0\n",
      "2           0          0\n",
      "3           0          0\n",
      "4           0          0\n",
      "...       ...        ...\n",
      "17880       0          0\n",
      "17881       0          0\n",
      "17882       0          0\n",
      "17883       0          0\n",
      "17884       0          0\n",
      "\n",
      "[17885 rows x 2 columns]\n"
     ]
    }
   ],
   "source": [
    "# Compare the predicted y values with the actual y values in a dataframe\n",
    "data = pd.DataFrame({'Actual': y_test.values.flatten(), 'Predicted': y_pred_1.flatten()})\n",
    "print(data)"
   ]
  },
  {
   "cell_type": "markdown",
   "id": "b610a5e6",
   "metadata": {},
   "source": [
    "### Assess the significance of the variables by calculating p-values and confidence intervals for the coefficients"
   ]
  },
  {
   "cell_type": "code",
   "execution_count": 71,
   "id": "61d62bb7",
   "metadata": {},
   "outputs": [
    {
     "name": "stdout",
     "output_type": "stream",
     "text": [
      "Warning: Maximum number of iterations has been exceeded.\n",
      "         Current function value: 0.130572\n",
      "         Iterations: 35\n",
      "                              Logit Regression Results                              \n",
      "====================================================================================\n",
      "Dep. Variable:     failure_occurred_on_pipe   No. Observations:                41730\n",
      "Model:                                Logit   Df Residuals:                    41715\n",
      "Method:                                 MLE   Df Model:                           14\n",
      "Date:                      Wed, 06 Dec 2023   Pseudo R-squ.:                0.006954\n",
      "Time:                              09:57:08   Log-Likelihood:                -5448.8\n",
      "converged:                            False   LL-Null:                       -5486.9\n",
      "Covariance Type:                  nonrobust   LLR p-value:                 1.356e-10\n",
      "=======================================================================================\n",
      "                          coef    std err          z      P>|z|      [0.025      0.975]\n",
      "---------------------------------------------------------------------------------------\n",
      "const                  -3.4550      0.121    -28.585      0.000      -3.692      -3.218\n",
      "soil_consistency_2      0.1656      0.326      0.508      0.611      -0.473       0.804\n",
      "soil_consistency_3     -0.1548      0.092     -1.688      0.091      -0.335       0.025\n",
      "soil_consistency_4     -0.1352      0.199     -0.680      0.496      -0.525       0.254\n",
      "soil_consistency_5      0.1038      0.123      0.845      0.398      -0.137       0.344\n",
      "traffic_load_2         -0.3547      0.071     -4.968      0.000      -0.495      -0.215\n",
      "traffic_load_3         -0.1156      0.094     -1.227      0.220      -0.300       0.069\n",
      "traffic_load_4         -0.8266      0.508     -1.628      0.103      -1.822       0.168\n",
      "traffic_load_5        -14.3840   2158.249     -0.007      0.995   -4244.475    4215.707\n",
      "soil_aggressivity_2     0.2975      0.289      1.028      0.304      -0.270       0.865\n",
      "soil_aggressivity_3    -0.0979      0.101     -0.969      0.332      -0.296       0.100\n",
      "soil_aggressivity_4     1.1706      0.746      1.569      0.117      -0.292       2.633\n",
      "stray_electricity_2    -0.2416      0.160     -1.506      0.132      -0.556       0.073\n",
      "stray_electricity_3     0.4535      0.138      3.294      0.001       0.184       0.723\n",
      "stray_electricity_4     0.1448      0.115      1.258      0.208      -0.081       0.370\n",
      "=======================================================================================\n"
     ]
    },
    {
     "name": "stderr",
     "output_type": "stream",
     "text": [
      "C:\\Users\\Sanja\\anaconda3\\Lib\\site-packages\\statsmodels\\base\\model.py:607: ConvergenceWarning: Maximum Likelihood optimization failed to converge. Check mle_retvals\n",
      "  warnings.warn(\"Maximum Likelihood optimization failed to \"\n"
     ]
    }
   ],
   "source": [
    "# In scikit-learn, the logistic regression implementation does not provide p-values and confidence intervals for the coefficients.\n",
    "\n",
    "# Use the statsmodels library to obtain these statistics\n",
    "import statsmodels.api as sm\n",
    "\n",
    "# Add a constant to the independent variables matrix\n",
    "X_train_const = sm.add_constant(X_train)\n",
    "\n",
    "# Create a logistic regression model using statsmodels\n",
    "logit_model = sm.Logit(y_train, X_train_const)\n",
    "\n",
    "# Fit the model\n",
    "result = logit_model.fit()\n",
    "\n",
    "# Print the summary to see p-values and confidence intervals\n",
    "print(result.summary())"
   ]
  },
  {
   "cell_type": "markdown",
   "id": "c653014b",
   "metadata": {},
   "source": [
    "#### Note: The warning\"Maximum Likelihood optimization failed to \" indicates that the logistic regression model failed to converge. This can happen when the optimization algorithm can't find the maximum likelihood estimates of the model parameters. There are a few things I can try to address this issue:\n",
    "- Increase the Maximum Number of Iterations\n",
    "- Check for Multicollinearity\n",
    "- Scale the Features\n",
    "#### Here's an example combining some of these suggestions:"
   ]
  },
  {
   "cell_type": "code",
   "execution_count": 72,
   "id": "ee5421d7",
   "metadata": {},
   "outputs": [
    {
     "name": "stdout",
     "output_type": "stream",
     "text": [
      "Warning: Maximum number of iterations has been exceeded.\n",
      "         Current function value: 0.130572\n",
      "         Iterations: 1000\n"
     ]
    },
    {
     "name": "stderr",
     "output_type": "stream",
     "text": [
      "C:\\Users\\Sanja\\anaconda3\\Lib\\site-packages\\statsmodels\\base\\model.py:607: ConvergenceWarning: Maximum Likelihood optimization failed to converge. Check mle_retvals\n",
      "  warnings.warn(\"Maximum Likelihood optimization failed to \"\n"
     ]
    },
    {
     "name": "stdout",
     "output_type": "stream",
     "text": [
      "Optimization terminated successfully    (Exit mode 0)\n",
      "            Current function value: 0.13057232993806964\n",
      "            Iterations: 95\n",
      "            Function evaluations: 96\n",
      "            Gradient evaluations: 95\n",
      "                              Logit Regression Results                              \n",
      "====================================================================================\n",
      "Dep. Variable:     failure_occurred_on_pipe   No. Observations:                41730\n",
      "Model:                                Logit   Df Residuals:                    41715\n",
      "Method:                                 MLE   Df Model:                           14\n",
      "Date:                      Wed, 06 Dec 2023   Pseudo R-squ.:                0.006954\n",
      "Time:                              09:57:15   Log-Likelihood:                -5448.8\n",
      "converged:                             True   LL-Null:                       -5486.9\n",
      "Covariance Type:                  nonrobust   LLR p-value:                 1.357e-10\n",
      "==============================================================================\n",
      "                 coef    std err          z      P>|z|      [0.025      0.975]\n",
      "------------------------------------------------------------------------------\n",
      "const         -3.5429      0.056    -63.360      0.000      -3.652      -3.433\n",
      "x1             0.0129      0.025      0.508      0.612      -0.037       0.063\n",
      "x2            -0.0705      0.042     -1.698      0.090      -0.152       0.011\n",
      "x3            -0.0286      0.042     -0.685      0.494      -0.111       0.053\n",
      "x4             0.0402      0.048      0.833      0.405      -0.054       0.135\n",
      "x5            -0.1678      0.034     -4.970      0.000      -0.234      -0.102\n",
      "x6            -0.0393      0.032     -1.229      0.219      -0.102       0.023\n",
      "x7            -0.0707      0.043     -1.631      0.103      -0.156       0.014\n",
      "x8            -0.1565      2.779     -0.056      0.955      -5.603       5.290\n",
      "x9             0.0359      0.035      1.030      0.303      -0.032       0.104\n",
      "x10           -0.0477      0.050     -0.957      0.338      -0.146       0.050\n",
      "x11            0.0263      0.017      1.569      0.117      -0.007       0.059\n",
      "x12           -0.0697      0.046     -1.505      0.132      -0.160       0.021\n",
      "x13            0.1275      0.039      3.292      0.001       0.052       0.203\n",
      "x14            0.0645      0.051      1.257      0.209      -0.036       0.165\n",
      "==============================================================================\n"
     ]
    }
   ],
   "source": [
    "from sklearn.preprocessing import StandardScaler\n",
    "\n",
    "# Scale your features\n",
    "scaler = StandardScaler()\n",
    "X_train_scaled = scaler.fit_transform(X_train)\n",
    "\n",
    "# Add a constant to the independent variables matrix\n",
    "X_train_scaled_const = sm.add_constant(X_train_scaled)\n",
    "\n",
    "# Create a logistic regression model using statsmodels\n",
    "logit_model = sm.Logit(y_train, X_train_scaled_const)\n",
    "\n",
    "# Fit the model with increased iterations\n",
    "result = logit_model.fit(maxiter=1000)\n",
    "\n",
    "#Regularization. If increasing iterations doesn't solve the issue, consider adding regularization to the logistic regression model. Statsmodels provides L1 and L2 regularization options.\n",
    "result = logit_model.fit_regularized(method='l1')\n",
    "# Print the summary to see p-values and confidence intervals\n",
    "print(result.summary())"
   ]
  },
  {
   "cell_type": "markdown",
   "id": "ff7f5126",
   "metadata": {},
   "source": [
    "#### Observation: It looks like, the model eventually converged successfully, as indicated by \"converged: True\" in the output. The second part of the output shows the results after convergence.\n",
    "\n",
    "#### Significance: If the p-value (P>|z|) for a coefficient is less than the chosen significance level (commonly 0.05), I would reject the null hypothesis and consider the variable statistically significant.\n",
    "#### Confidence Intervals: The [0.025, 0.975] values represent the 95% confidence interval for each coefficient. If this interval includes zero, it suggests that the variable is not statistically significant.\n",
    "#### Considrering the results for p-values and confidence intervals for the coefficients i can see that most of the variables (like x1, x2, x3, x4, x6, x7, x9, x10, x11, x12, and x14) have p-values greater than 0.05, indicating that they may not be statistically significant predictors of the dependent variable, making it only 'traffic_load_2' and  'stray_electricity_3'  statistically significant.\n",
    "\n",
    "#### LLR (Likelihood Ratio Test) p-value: The LLR p-value is often used to assess the overall significance of the model. A low p-value suggests that at least one variable in the model is significant.\n",
    "\n",
    "#### Caution: about multicollinearity and other potential issues that may affect the interpretation of coefficients.To check for multicollinearity among the features, I would  compute the variance inflation factor (VIF) for each independent variable. The VIF measures how much the variance of the estimated regression coefficients is increased due to collinearity.\n",
    "\n",
    "#### Conclusion: Statistical significance does not imply practical significance, and it's essential to consider the context of the study and the potential impact of each variable on the dependent variable. Additionally, further diagnostics (such as checking for multicollinearity) may be necessary to ensure the reliability of the results."
   ]
  },
  {
   "cell_type": "code",
   "execution_count": 73,
   "id": "bd9d67f2",
   "metadata": {},
   "outputs": [
    {
     "name": "stdout",
     "output_type": "stream",
     "text": [
      "               Variable       VIF\n",
      "0    soil_consistency_2  0.003944\n",
      "1    soil_consistency_3  0.045250\n",
      "2    soil_consistency_4  0.148124\n",
      "3    soil_consistency_5  0.006497\n",
      "4        traffic_load_2  0.001094\n",
      "5        traffic_load_3  0.036449\n",
      "6        traffic_load_4  0.167358\n",
      "7        traffic_load_5  1.001561\n",
      "8   soil_aggressivity_2  0.270293\n",
      "9   soil_aggressivity_3  0.049608\n",
      "10  soil_aggressivity_4  1.001028\n",
      "11  stray_electricity_2  0.080379\n",
      "12  stray_electricity_3  0.009994\n",
      "13  stray_electricity_4  0.005275\n"
     ]
    }
   ],
   "source": [
    "# This code calculates the VIF for each variable in your dataset. Typically, variables with VIF values greater than 5 or 10 are considered to have high multicollinearity.\n",
    "from statsmodels.stats.outliers_influence import variance_inflation_factor\n",
    "\n",
    "# Calculate VIF for each variable\n",
    "vif_data = pd.DataFrame()\n",
    "vif_data[\"Variable\"] = X_train.columns\n",
    "vif_data[\"VIF\"] = [variance_inflation_factor(X_train.values, i) for i in range(X_train.shape[1])]\n",
    "\n",
    "# Display the results\n",
    "print(vif_data)"
   ]
  },
  {
   "cell_type": "markdown",
   "id": "458c3be2",
   "metadata": {},
   "source": [
    "#### Observation: The calculated Variance Inflation Factor (VIF) values for each independent variable are remarkably low, indicating a minimal presence of multicollinearity among the predictors. Generally, VIF values below 5 or 10 are considered low, signifying that the precision of the estimated coefficients is not substantially influenced by multicollinearity. Additionally, upon revisiting the correlation matrix from section 6.2, it is evident that there is no strong correlation between the variables, further supporting the conclusion that multicollinearity is not a significant concern in the dataset."
   ]
  },
  {
   "cell_type": "markdown",
   "id": "cf257565",
   "metadata": {},
   "source": [
    "## 4.2. Binary Logistic Regression for dataset 2 (including only cast iron pipes and  the following environmental factors: 'soil_consistency' and 'traffic_load')"
   ]
  },
  {
   "cell_type": "code",
   "execution_count": 92,
   "id": "91f22a89",
   "metadata": {},
   "outputs": [],
   "source": [
    "# Create a boolean mask for rows where pipe maaterial is cast iron ('material' is equal to 2.0)\n",
    "mask = df_pipelines_failure['material'] == 2.0\n",
    "\n",
    "# Apply the mask to filter the DataFrame\n",
    "df_cast_iron = df_pipelines_failure[mask]\n",
    "\n",
    "# Create independent and dependent variables\n",
    "X_1 = df_cast_iron[['soil_consistency', 'traffic_load']]\n",
    "y_1 = df_cast_iron['failure_occurred_on_pipe']\n",
    "\n",
    "# Filter rows where soil_consistency is not equal to 0, because code 0 is 'unknown'\n",
    "filtered_rows_1 = (X_1['soil_consistency'] != 0)\n",
    "\n",
    "# Reset index of the DataFrame and the boolean Series\n",
    "X_1 = X_1[filtered_rows_1].reset_index(drop=True)\n",
    "y_1 = y_1[filtered_rows_1].reset_index(drop=True)\n",
    "\n",
    "# Convert categorical variables to dummy variables (one-hot encoding)\n",
    "X_1 = pd.get_dummies(X_1, drop_first=True, columns=['soil_consistency', 'traffic_load'], prefix=['soil_consistency', 'traffic_load'])\n",
    "\n",
    "# Split data into a training set and a test set.\n",
    "X_1_train, X_1_test, y_1_train, y_1_test = train_test_split(X_1, y_1, test_size=0.3, random_state=0)\n",
    "\n",
    "# Create a logistic regression model\n",
    "logreg_3 = LogisticRegression()\n",
    "\n",
    "# Fit the model on the training data\n",
    "model_3 = logreg_3.fit(X_1_train, y_1_train)\n",
    "\n",
    "# Make predictions on the test set\n",
    "y_pred_3 = logreg_3.predict(X_1_test)"
   ]
  },
  {
   "cell_type": "markdown",
   "id": "7829986e",
   "metadata": {},
   "source": [
    "### Visualize the training set results and test set results for binary logistic regression, using a confusion matrix and a decision boundary plot"
   ]
  },
  {
   "cell_type": "code",
   "execution_count": 114,
   "id": "25400059",
   "metadata": {},
   "outputs": [
    {
     "data": {
      "image/png": "[encoded data removed]",
      "text/plain": [
       "<Figure size 1200x400 with 4 Axes>"
      ]
     },
     "metadata": {},
     "output_type": "display_data"
    }
   ],
   "source": [
    "# Plot confusion matrix\n",
    "cm_train = confusion_matrix(y_1_train, logreg_3.predict(X_1_train))\n",
    "cm_test = confusion_matrix(y_1_test, y_pred_3)\n",
    "\n",
    "plt.figure(figsize=(12, 4))\n",
    "\n",
    "plt.subplot(1, 2, 1)\n",
    "plt.imshow(cm_train, interpolation='nearest', cmap=plt.cm.Blues)\n",
    "plt.title('Confusion Matrix - Training Set')\n",
    "plt.colorbar()\n",
    "\n",
    "plt.subplot(1, 2, 2)\n",
    "plt.imshow(cm_test, interpolation='nearest', cmap=plt.cm.Blues)\n",
    "plt.title('Confusion Matrix - Test Set')\n",
    "plt.colorbar()\n",
    "# Save confusion matrix plots as images\n",
    "plt.savefig('confusion_matrix_log_reg.png')\n",
    "plt.show()"
   ]
  },
  {
   "cell_type": "code",
   "execution_count": 100,
   "id": "579e8d89",
   "metadata": {
    "scrolled": true
   },
   "outputs": [
    {
     "name": "stdout",
     "output_type": "stream",
     "text": [
      "Number of features in training set: 8\n",
      "Number of features in test set: 8\n"
     ]
    }
   ],
   "source": [
    "num_features_train = X_1_train.shape[1]\n",
    "num_features_test = X_1_test.shape[1]\n",
    "\n",
    "print(f\"Number of features in training set: {num_features_train}\")\n",
    "print(f\"Number of features in test set: {num_features_test}\")"
   ]
  },
  {
   "cell_type": "code",
   "execution_count": 101,
   "id": "2bc1bdc0",
   "metadata": {},
   "outputs": [
    {
     "name": "stdout",
     "output_type": "stream",
     "text": [
      "Feature Names in Training Set: Index(['soil_consistency_2', 'soil_consistency_3', 'soil_consistency_4',\n",
      "       'soil_consistency_5', 'traffic_load_2', 'traffic_load_3',\n",
      "       'traffic_load_4', 'traffic_load_5'],\n",
      "      dtype='object')\n"
     ]
    }
   ],
   "source": [
    "# Assuming X_1_train is a DataFrame\n",
    "feature_names_train = X_1_train.columns\n",
    "\n",
    "print(f\"Feature Names in Training Set: {feature_names_train}\")"
   ]
  },
  {
   "cell_type": "markdown",
   "id": "3370066a",
   "metadata": {},
   "source": [
    "Note: Since I have 8 features in both the training and test sets, visualizing the decision boundaries directly in a 2D plot may not be as meaningful. In this cases, i will use dimensionality reduction techniques, such as PCA (Principal Component Analysis), to reduce the dimensionality and visualize the data in a more manageable way."
   ]
  },
  {
   "cell_type": "code",
   "execution_count": 115,
   "id": "80ac0c6c",
   "metadata": {
    "scrolled": true
   },
   "outputs": [
    {
     "data": {
      "image/png": "[encoded data removed]",
      "text/plain": [
       "<Figure size 1200x500 with 2 Axes>"
      ]
     },
     "metadata": {},
     "output_type": "display_data"
    }
   ],
   "source": [
    "from sklearn.decomposition import PCA\n",
    "# Apply PCA to reduce dimensionality to 2 components\n",
    "pca = PCA(n_components=2)\n",
    "X_1_train_pca = pca.fit_transform(X_1_train)\n",
    "X_1_test_pca = pca.transform(X_1_test)\n",
    "\n",
    "# Create and fit the logistic regression model on the reduced training data\n",
    "logreg_3_pca = LogisticRegression()\n",
    "model_3_pca = logreg_3_pca.fit(X_1_train_pca, y_1_train)\n",
    "\n",
    "# Make predictions on the reduced test set\n",
    "y_pred_3_pca = logreg_3_pca.predict(X_1_test_pca)\n",
    "\n",
    "# Plot decision boundaries for the reduced 2D dataset\n",
    "plt.figure(figsize=(12, 5))\n",
    "\n",
    "plt.subplot(1, 2, 1)\n",
    "plt.scatter(X_1_train_pca[:, 0], X_1_train_pca[:, 1], c=y_1_train, cmap=plt.cm.Paired, edgecolors='k')\n",
    "plt.title('Decision Boundaries - Training Set (PCA)')\n",
    "plt.xlabel('Principal Component 1')\n",
    "plt.ylabel('Principal Component 2')\n",
    "\n",
    "plt.subplot(1, 2, 2)\n",
    "plt.scatter(X_1_test_pca[:, 0], X_1_test_pca[:, 1], c=y_1_test, cmap=plt.cm.Paired, edgecolors='k')\n",
    "plt.title('Decision Boundaries - Test Set (PCA)')\n",
    "plt.xlabel('Principal Component 1')\n",
    "plt.ylabel('Principal Component 2')\n",
    "# Save  plots as images\n",
    "plt.savefig('decision_boundaries_log_reg.png')\n",
    "\n",
    "plt.show()"
   ]
  },
  {
   "cell_type": "markdown",
   "id": "12218db9",
   "metadata": {},
   "source": [
    "### Observation: The dataset is imbalanced, with the majority of samples belonging to the blue class (e.g., failure not occurred) and only a small number of samples belonging to the red class (e.g., failure occurred)."
   ]
  },
  {
   "cell_type": "code",
   "execution_count": 75,
   "id": "cccfda00",
   "metadata": {},
   "outputs": [
    {
     "name": "stdout",
     "output_type": "stream",
     "text": [
      "Coefficients:\n",
      "                    Coefficient\n",
      "soil_consistency_2    -0.040649\n",
      "soil_consistency_3    -0.315905\n",
      "soil_consistency_4     0.030977\n",
      "soil_consistency_5     0.302840\n",
      "traffic_load_2        -0.133128\n",
      "traffic_load_3        -0.021911\n",
      "traffic_load_4        -0.329116\n",
      "traffic_load_5        -0.082121\n",
      "\n",
      "Odds Ratios:\n",
      "                    Odds Ratio\n",
      "soil_consistency_2      0.9602\n",
      "soil_consistency_3      0.7291\n",
      "soil_consistency_4      1.0315\n",
      "soil_consistency_5      1.3537\n",
      "traffic_load_2          0.8754\n",
      "traffic_load_3          0.9783\n",
      "traffic_load_4          0.7196\n",
      "traffic_load_5          0.9212\n"
     ]
    }
   ],
   "source": [
    "# Get coefficients and odds ratios for the cast iron subset\n",
    "coefficients_1 = pd.DataFrame(logreg_3.coef_[0], index=X_1.columns, columns=['Coefficient'])\n",
    "odds_ratios_1 = pd.DataFrame({'Odds Ratio': np.round(np.exp(logreg_3.coef_[0]), 4)}, index=X_1.columns)\n",
    "\n",
    "# Print coefficients and odds ratios for the cast iron subset\n",
    "print(\"Coefficients:\")\n",
    "print(coefficients_1)\n",
    "print(\"\\nOdds Ratios:\")\n",
    "print(odds_ratios_1)"
   ]
  },
  {
   "cell_type": "code",
   "execution_count": 76,
   "id": "57a4686a",
   "metadata": {},
   "outputs": [
    {
     "name": "stdout",
     "output_type": "stream",
     "text": [
      "Accuracy: 0.9220917822838848\n",
      "\n",
      "Confusion Matrix:\n",
      " [[1728    0]\n",
      " [ 146    0]]\n",
      "\n",
      "Classification Report:\n",
      "               precision    recall  f1-score   support\n",
      "\n",
      "           0       0.92      1.00      0.96      1728\n",
      "           1       0.00      0.00      0.00       146\n",
      "\n",
      "    accuracy                           0.92      1874\n",
      "   macro avg       0.46      0.50      0.48      1874\n",
      "weighted avg       0.85      0.92      0.88      1874\n",
      "\n"
     ]
    },
    {
     "name": "stderr",
     "output_type": "stream",
     "text": [
      "C:\\Users\\Sanja\\anaconda3\\Lib\\site-packages\\sklearn\\metrics\\_classification.py:1471: UndefinedMetricWarning: Precision and F-score are ill-defined and being set to 0.0 in labels with no predicted samples. Use `zero_division` parameter to control this behavior.\n",
      "  _warn_prf(average, modifier, msg_start, len(result))\n",
      "C:\\Users\\Sanja\\anaconda3\\Lib\\site-packages\\sklearn\\metrics\\_classification.py:1471: UndefinedMetricWarning: Precision and F-score are ill-defined and being set to 0.0 in labels with no predicted samples. Use `zero_division` parameter to control this behavior.\n",
      "  _warn_prf(average, modifier, msg_start, len(result))\n",
      "C:\\Users\\Sanja\\anaconda3\\Lib\\site-packages\\sklearn\\metrics\\_classification.py:1471: UndefinedMetricWarning: Precision and F-score are ill-defined and being set to 0.0 in labels with no predicted samples. Use `zero_division` parameter to control this behavior.\n",
      "  _warn_prf(average, modifier, msg_start, len(result))\n"
     ]
    }
   ],
   "source": [
    "# Evaluate the model\n",
    "print('Accuracy:', accuracy_score(y_1_test, y_pred_3))\n",
    "print('\\nConfusion Matrix:\\n', confusion_matrix(y_1_test, y_pred_3))\n",
    "print('\\nClassification Report:\\n', classification_report(y_1_test, y_pred_3))"
   ]
  },
  {
   "cell_type": "markdown",
   "id": "2b6169bf",
   "metadata": {},
   "source": [
    "#### Note: there is 'the UndefinedMetricWarning' warning that is triggered because the class 1 in the target variable has no predicted samples\n",
    "\n",
    "#### In summary, (the same scenario like in the previous  mode) while the model has high accuracy, it's not performing well in identifying instances of the positive class- The dataset is imbalanced. Further investigation is needed or exploring different modeling approaches.\n",
    "\n",
    "Here are some steps I can consider in the further analysis:\n",
    "\n",
    "#### A. Imbalanced Class Handling:\n",
    "\n",
    "Explore techniques to handle imbalanced classes. This might involve using different sampling strategies during training (oversampling the minority class, undersampling the majority class, or using more advanced methods like SMOTE.\n",
    "\n",
    "#### B. Different Models:\n",
    "\n",
    "Experiment with different classification algorithms. Some models might handle imbalanced datasets better than others. Random Forests, Gradient Boosting, or Support Vector Machines are examples of models that can be effective in such scenarios."
   ]
  },
  {
   "cell_type": "markdown",
   "id": "d4fb0b6c",
   "metadata": {},
   "source": [
    "## 05. Imbalanced class handling, using SMOTE (Synthetic Minority Over-Sampling Technique) "
   ]
  },
  {
   "cell_type": "markdown",
   "id": "206f65cb",
   "metadata": {},
   "source": [
    "## 5.1 SMOTE  for dataset 1"
   ]
  },
  {
   "cell_type": "code",
   "execution_count": 78,
   "id": "a45e47a3",
   "metadata": {
    "scrolled": false
   },
   "outputs": [
    {
     "name": "stdout",
     "output_type": "stream",
     "text": [
      "Accuracy: 0.45060106234274533\n",
      "\n",
      "Confusion Matrix:\n",
      " [[7756 9592]\n",
      " [ 234  303]]\n",
      "\n",
      "Classification Report:\n",
      "               precision    recall  f1-score   support\n",
      "\n",
      "           0       0.97      0.45      0.61     17348\n",
      "           1       0.03      0.56      0.06       537\n",
      "\n",
      "    accuracy                           0.45     17885\n",
      "   macro avg       0.50      0.51      0.34     17885\n",
      "weighted avg       0.94      0.45      0.60     17885\n",
      "\n"
     ]
    }
   ],
   "source": [
    "# Address the class imbalance using the imbalanced-learn library:\n",
    "from imblearn.over_sampling import SMOTE\n",
    "from sklearn.model_selection import train_test_split\n",
    "from sklearn.linear_model import LogisticRegression\n",
    "from sklearn.metrics import accuracy_score, confusion_matrix, classification_report\n",
    "\n",
    "# Split data into a training set and a test set.\n",
    "X_train, X_test, y_train, y_test = train_test_split(X, y, test_size=0.3, random_state=0)\n",
    "\n",
    "# Create SMOTE object\n",
    "smote = SMOTE(random_state=42)\n",
    "\n",
    "# Fit and apply the resampling\n",
    "X_train_resampled, y_train_resampled = smote.fit_resample(X_train, y_train)\n",
    "\n",
    "# Create a logistic regression model\n",
    "logreg_2 = LogisticRegression()\n",
    "\n",
    "# Fit the model on the resampled training data\n",
    "model_2 = logreg_2.fit(X_train_resampled, y_train_resampled)\n",
    "\n",
    "# Make predictions on the original test set\n",
    "y_pred_2 = logreg_2.predict(X_test)\n",
    "\n",
    "# Evaluate the model\n",
    "print('Accuracy:', accuracy_score(y_test, y_pred_2))\n",
    "print('\\nConfusion Matrix:\\n', confusion_matrix(y_test, y_pred_2))\n",
    "print('\\nClassification Report:\\n', classification_report(y_test, y_pred_2))"
   ]
  },
  {
   "cell_type": "markdown",
   "id": "7c7552dd",
   "metadata": {},
   "source": [
    "###  Observations and Conclusions conserning Model 1 and Model 2 (resampled data using SMOTE) for dataset 1:\n",
    "#### Accuracy:\n",
    "\n",
    "Model 1 has high accuracy, suggesting that it correctly predicts the majority of instances.\n",
    "Model 2 has significantly lower accuracy, indicating poor overall performance.\n",
    "#### Class Imbalance:\n",
    "\n",
    "Both models exhibit a class imbalance issue, especially in predicting instances of class 1. This is evident from the low recall, precision, and F1-score for class 1 in both models.\n",
    "#### Model 1 - Class 1:\n",
    "\n",
    "Model 1 predicts all instances as class 0, resulting in perfect precision and accuracy for class 0. However, it fails to identify any instances of class 1, leading to zero recall and F1-score for class 1.\n",
    "#### Model 2 - Class 1:\n",
    "\n",
    "Model 2, while having a balanced precision and recall for class 1, still performs poorly with low values for both metrics.\n",
    "#### Considerations:\n",
    "\n",
    "Class imbalance should be addressed in both models to improve their ability to correctly predict instances of the minority class (class 1).\n",
    "Further analysis, feature engineering, or model tuning may be needed to enhance the predictive performance, especially for class 1.\n",
    "#### Model Selection:\n",
    "\n",
    "Model 1 is not be suitable for practical use, as it fails to predict instances of class 1.\n",
    "Model 2, despite its lower accuracy, at least attempts to predict class 1.\n",
    "#### In summary, both models have limitations, and improvements are needed, especially in handling class imbalance and enhancing the ability to predict instances of the minority class."
   ]
  },
  {
   "cell_type": "markdown",
   "id": "9c413355",
   "metadata": {},
   "source": [
    "## 5.2.  SMOTE  for dataset 2 ( cast iron pipes)"
   ]
  },
  {
   "cell_type": "code",
   "execution_count": 79,
   "id": "8a45c2dd",
   "metadata": {
    "scrolled": true
   },
   "outputs": [
    {
     "name": "stdout",
     "output_type": "stream",
     "text": [
      "Accuracy: 0.33884738527214514\n",
      "\n",
      "Confusion Matrix:\n",
      " [[ 513 1215]\n",
      " [  24  122]]\n",
      "\n",
      "Classification Report:\n",
      "               precision    recall  f1-score   support\n",
      "\n",
      "           0       0.96      0.30      0.45      1728\n",
      "           1       0.09      0.84      0.16       146\n",
      "\n",
      "    accuracy                           0.34      1874\n",
      "   macro avg       0.52      0.57      0.31      1874\n",
      "weighted avg       0.89      0.34      0.43      1874\n",
      "\n"
     ]
    }
   ],
   "source": [
    "# Address the class imbalance using the imbalanced-learn library:\n",
    "from imblearn.over_sampling import SMOTE\n",
    "from sklearn.model_selection import train_test_split\n",
    "from sklearn.linear_model import LogisticRegression\n",
    "from sklearn.metrics import accuracy_score, confusion_matrix, classification_report\n",
    "\n",
    "# Split data into a training set and a test set.\n",
    "X_1_train, X_1_test, y_1_train, y_1_test = train_test_split(X_1, y_1, test_size=0.3, random_state=0)\n",
    "\n",
    "# Create SMOTE object\n",
    "smote = SMOTE(random_state=42)\n",
    "\n",
    "# Fit and apply the resampling\n",
    "X_train_resampled_1, y_train_resampled_1 = smote.fit_resample(X_1_train, y_1_train)\n",
    "\n",
    "# Create a logistic regression model\n",
    "logreg_4 = LogisticRegression()\n",
    "\n",
    "# Fit the model on the resampled training data\n",
    "model_4 = logreg_4.fit(X_train_resampled_1, y_train_resampled_1)\n",
    "\n",
    "# Make predictions on the original test set\n",
    "y_pred_4 = logreg_4.predict(X_1_test)\n",
    "\n",
    "# Evaluate the model\n",
    "print('Accuracy:', accuracy_score(y_1_test, y_pred_4))\n",
    "print('\\nConfusion Matrix:\\n', confusion_matrix(y_1_test, y_pred_4))\n",
    "print('\\nClassification Report:\\n', classification_report(y_1_test, y_pred_4))"
   ]
  },
  {
   "cell_type": "code",
   "execution_count": 105,
   "id": "0b5c0945",
   "metadata": {
    "scrolled": false
   },
   "outputs": [
    {
     "data": {
      "text/plain": [
       "0    4018\n",
       "1    4018\n",
       "Name: failure_occurred_on_pipe, dtype: int64"
      ]
     },
     "execution_count": 105,
     "metadata": {},
     "output_type": "execute_result"
    }
   ],
   "source": [
    "# Inspect Resampled Class Distribution: After applying SMOTE, check the distribution of class labels in the resampled training set to ensure that both classes are adequately represented\n",
    "pd.Series(y_train_resampled_1).value_counts()"
   ]
  },
  {
   "cell_type": "markdown",
   "id": "cea675f2",
   "metadata": {},
   "source": [
    "#### Observation: It looks like the resampling using SMOTE has successfully balanced the class distribution in the training set. Each class now has an equal number of samples (4018), which is good for addressing the class imbalance."
   ]
  },
  {
   "cell_type": "code",
   "execution_count": 116,
   "id": "b2c657c5",
   "metadata": {
    "scrolled": false
   },
   "outputs": [
    {
     "data": {
      "image/png": "[encoded data removed]",
      "text/plain": [
       "<Figure size 1200x400 with 3 Axes>"
      ]
     },
     "metadata": {},
     "output_type": "display_data"
    }
   ],
   "source": [
    "# Visualize the confusion matrix for the test set\n",
    "cm_test_smote = confusion_matrix(y_1_test, y_pred_4)\n",
    "\n",
    "plt.figure(figsize=(12, 4))\n",
    "\n",
    "plt.subplot(1, 2, 1)\n",
    "plt.imshow(cm_test_smote, interpolation='nearest', cmap=plt.cm.Blues)\n",
    "plt.title('Confusion Matrix - Test Set (SMOTE)')\n",
    "plt.colorbar()\n",
    "plt.xlabel('Predicted Label')\n",
    "plt.ylabel('True Label')\n",
    "\n",
    "# Apply PCA to reduce dimensionality to 2 components\n",
    "pca_smote = PCA(n_components=2)\n",
    "X_train_resampled_pca = pca_smote.fit_transform(X_train_resampled_1)\n",
    "X_test_pca = pca_smote.transform(X_1_test)\n",
    "\n",
    "# Create and fit the logistic regression model on the reduced training data\n",
    "logreg_4_pca = LogisticRegression()\n",
    "model_4_pca = logreg_4_pca.fit(X_train_resampled_pca, y_train_resampled_1)\n",
    "\n",
    "# Make predictions on the reduced test set\n",
    "y_pred_4_pca = logreg_4_pca.predict(X_test_pca)\n",
    "\n",
    "# Plot decision boundaries for the reduced 2D dataset\n",
    "plt.subplot(1, 2, 2)\n",
    "plt.scatter(X_train_resampled_pca[:, 0], X_train_resampled_pca[:, 1], c=y_train_resampled_1, cmap=plt.cm.Paired, edgecolors='k')\n",
    "plt.scatter(X_test_pca[:, 0], X_test_pca[:, 1], c=y_1_test, cmap=plt.cm.Paired, marker='x', s=50)  # Increase marker size\n",
    "plt.title('Decision Boundaries - Test Set (SMOTE)')\n",
    "plt.xlabel('Principal Component 1')\n",
    "plt.ylabel('Principal Component 2')\n",
    "# Save  plots as images\n",
    "plt.savefig('decision_boundaries_log_reg_SMOTE.png')\n",
    "plt.show()"
   ]
  },
  {
   "cell_type": "markdown",
   "id": "5eb0bee4",
   "metadata": {},
   "source": [
    "### Observation: Examining the decision boundary visualization provides a glimpse into the logistic regression model's proficiency in distinguishing between the two classes: red points (representing failure not occurred) and blue 'X' markers (indicating failure occurred) in the reduced feature space. Despite employing the SMOTE technique to address class imbalance, the model's capacity to capture patterns in the minority class appears constrained."
   ]
  },
  {
   "cell_type": "markdown",
   "id": "e85dcca9",
   "metadata": {},
   "source": [
    "###  Observations and Conclusions conserning Model 3 and Model 4 (resampled data using SMOTE) for dataset 2:\n",
    "#### Observations:\n",
    "- The accuracy has dropped significantly to 33.88% after applying SMOTE.\n",
    "- The precision, recall, and f1-score for class 1 have improved compared to Model 3, but they are still relatively low.\n",
    "\n",
    "#### Conclusion:\n",
    "- SMOTE has helped improve the model's ability to identify failures (class 1), as seen in the improved recall and f1-score for class 1.\n",
    "- Despite the improvement, the model's overall performance remains limited, and further adjustments may be needed to enhance its predictive capabilities."
   ]
  },
  {
   "cell_type": "markdown",
   "id": "d5463dba",
   "metadata": {},
   "source": [
    "## 06. Experimenting with different classification algorithms"
   ]
  },
  {
   "cell_type": "markdown",
   "id": "49ac60e4",
   "metadata": {},
   "source": [
    "## 6.1. Random Forests Algorithm, dataset 1"
   ]
  },
  {
   "cell_type": "code",
   "execution_count": 81,
   "id": "7a1842ef",
   "metadata": {},
   "outputs": [
    {
     "data": {
      "text/html": [
       "<style>#sk-container-id-1 {color: black;}#sk-container-id-1 pre{padding: 0;}#sk-container-id-1 div.sk-toggleable {background-color: white;}#sk-container-id-1 label.sk-toggleable__label {cursor: pointer;display: block;width: 100%;margin-bottom: 0;padding: 0.3em;box-sizing: border-box;text-align: center;}#sk-container-id-1 label.sk-toggleable__label-arrow:before {content: \"▸\";float: left;margin-right: 0.25em;color: #696969;}#sk-container-id-1 label.sk-toggleable__label-arrow:hover:before {color: black;}#sk-container-id-1 div.sk-estimator:hover label.sk-toggleable__label-arrow:before {color: black;}#sk-container-id-1 div.sk-toggleable__content {max-height: 0;max-width: 0;overflow: hidden;text-align: left;background-color: #f0f8ff;}#sk-container-id-1 div.sk-toggleable__content pre {margin: 0.2em;color: black;border-radius: 0.25em;background-color: #f0f8ff;}#sk-container-id-1 input.sk-toggleable__control:checked~div.sk-toggleable__content {max-height: 200px;max-width: 100%;overflow: auto;}#sk-container-id-1 input.sk-toggleable__control:checked~label.sk-toggleable__label-arrow:before {content: \"▾\";}#sk-container-id-1 div.sk-estimator input.sk-toggleable__control:checked~label.sk-toggleable__label {background-color: #d4ebff;}#sk-container-id-1 div.sk-label input.sk-toggleable__control:checked~label.sk-toggleable__label {background-color: #d4ebff;}#sk-container-id-1 input.sk-hidden--visually {border: 0;clip: rect(1px 1px 1px 1px);clip: rect(1px, 1px, 1px, 1px);height: 1px;margin: -1px;overflow: hidden;padding: 0;position: absolute;width: 1px;}#sk-container-id-1 div.sk-estimator {font-family: monospace;background-color: #f0f8ff;border: 1px dotted black;border-radius: 0.25em;box-sizing: border-box;margin-bottom: 0.5em;}#sk-container-id-1 div.sk-estimator:hover {background-color: #d4ebff;}#sk-container-id-1 div.sk-parallel-item::after {content: \"\";width: 100%;border-bottom: 1px solid gray;flex-grow: 1;}#sk-container-id-1 div.sk-label:hover label.sk-toggleable__label {background-color: #d4ebff;}#sk-container-id-1 div.sk-serial::before {content: \"\";position: absolute;border-left: 1px solid gray;box-sizing: border-box;top: 0;bottom: 0;left: 50%;z-index: 0;}#sk-container-id-1 div.sk-serial {display: flex;flex-direction: column;align-items: center;background-color: white;padding-right: 0.2em;padding-left: 0.2em;position: relative;}#sk-container-id-1 div.sk-item {position: relative;z-index: 1;}#sk-container-id-1 div.sk-parallel {display: flex;align-items: stretch;justify-content: center;background-color: white;position: relative;}#sk-container-id-1 div.sk-item::before, #sk-container-id-1 div.sk-parallel-item::before {content: \"\";position: absolute;border-left: 1px solid gray;box-sizing: border-box;top: 0;bottom: 0;left: 50%;z-index: -1;}#sk-container-id-1 div.sk-parallel-item {display: flex;flex-direction: column;z-index: 1;position: relative;background-color: white;}#sk-container-id-1 div.sk-parallel-item:first-child::after {align-self: flex-end;width: 50%;}#sk-container-id-1 div.sk-parallel-item:last-child::after {align-self: flex-start;width: 50%;}#sk-container-id-1 div.sk-parallel-item:only-child::after {width: 0;}#sk-container-id-1 div.sk-dashed-wrapped {border: 1px dashed gray;margin: 0 0.4em 0.5em 0.4em;box-sizing: border-box;padding-bottom: 0.4em;background-color: white;}#sk-container-id-1 div.sk-label label {font-family: monospace;font-weight: bold;display: inline-block;line-height: 1.2em;}#sk-container-id-1 div.sk-label-container {text-align: center;}#sk-container-id-1 div.sk-container {/* jupyter's `normalize.less` sets `[hidden] { display: none; }` but bootstrap.min.css set `[hidden] { display: none !important; }` so we also need the `!important` here to be able to override the default hidden behavior on the sphinx rendered scikit-learn.org. See: https://github.com/scikit-learn/scikit-learn/issues/21755 */display: inline-block !important;position: relative;}#sk-container-id-1 div.sk-text-repr-fallback {display: none;}</style><div id=\"sk-container-id-1\" class=\"sk-top-container\"><div class=\"sk-text-repr-fallback\"><pre>RandomForestClassifier(random_state=42)</pre><b>In a Jupyter environment, please rerun this cell to show the HTML representation or trust the notebook. <br />On GitHub, the HTML representation is unable to render, please try loading this page with nbviewer.org.</b></div><div class=\"sk-container\" hidden><div class=\"sk-item\"><div class=\"sk-estimator sk-toggleable\"><input class=\"sk-toggleable__control sk-hidden--visually\" id=\"sk-estimator-id-1\" type=\"checkbox\" checked><label for=\"sk-estimator-id-1\" class=\"sk-toggleable__label sk-toggleable__label-arrow\">RandomForestClassifier</label><div class=\"sk-toggleable__content\"><pre>RandomForestClassifier(random_state=42)</pre></div></div></div></div></div>"
      ],
      "text/plain": [
       "RandomForestClassifier(random_state=42)"
      ]
     },
     "execution_count": 81,
     "metadata": {},
     "output_type": "execute_result"
    }
   ],
   "source": [
    "# Train Random Forest Model for dataset 1:\n",
    "\n",
    "# Create a Random Forest Classifier\n",
    "rf_model = RandomForestClassifier(random_state=42)\n",
    "\n",
    "# Fit the model to the training data\n",
    "rf_model.fit(X_train_resampled, y_train_resampled)"
   ]
  },
  {
   "cell_type": "code",
   "execution_count": 91,
   "id": "9ea06085",
   "metadata": {},
   "outputs": [],
   "source": [
    "# Make predictions on the test set\n",
    "y_pred_5 = rf_model.predict(X_test)"
   ]
  },
  {
   "cell_type": "code",
   "execution_count": 83,
   "id": "40acd16e",
   "metadata": {
    "scrolled": true
   },
   "outputs": [
    {
     "name": "stdout",
     "output_type": "stream",
     "text": [
      "Accuracy: 0.4632373497344143\n",
      "\n",
      "Confusion Matrix:\n",
      " [[7963 9385]\n",
      " [ 215  322]]\n",
      "\n",
      "Classification Report:\n",
      "               precision    recall  f1-score   support\n",
      "\n",
      "           0       0.97      0.46      0.62     17348\n",
      "           1       0.03      0.60      0.06       537\n",
      "\n",
      "    accuracy                           0.46     17885\n",
      "   macro avg       0.50      0.53      0.34     17885\n",
      "weighted avg       0.95      0.46      0.61     17885\n",
      "\n"
     ]
    }
   ],
   "source": [
    "# Evaluate the model\n",
    "print('Accuracy:', accuracy_score(y_test, y_pred_5))\n",
    "print('\\nConfusion Matrix:\\n', confusion_matrix(y_test, y_pred_5))\n",
    "print('\\nClassification Report:\\n', classification_report(y_test, y_pred_5))"
   ]
  },
  {
   "cell_type": "markdown",
   "id": "d3b0b998",
   "metadata": {},
   "source": [
    "#### Observation: The Model shows a comparable performance to Model 2 discussed in section 5.2 (Logistic Regression). Despite efforts, the overall effectiveness of the model appears constrained, indicating that additional refinements might be necessary to improve its predictive capabilities."
   ]
  },
  {
   "cell_type": "markdown",
   "id": "b8d817d8",
   "metadata": {},
   "source": [
    "###  Feature Importance"
   ]
  },
  {
   "cell_type": "code",
   "execution_count": 117,
   "id": "925af70c",
   "metadata": {},
   "outputs": [
    {
     "data": {
      "image/png": "[encoded data removed]",
      "text/plain": [
       "<Figure size 1200x400 with 2 Axes>"
      ]
     },
     "metadata": {},
     "output_type": "display_data"
    }
   ],
   "source": [
    "from sklearn.datasets import make_classification\n",
    "# Assuming X_train_resampled, y_train_resampled, X_test, y_test are already defined\n",
    "\n",
    "# Create a Random Forest Classifier\n",
    "rf_model = RandomForestClassifier(random_state=42)\n",
    "\n",
    "# Fit the model to the training data\n",
    "rf_model.fit(X_train_resampled, y_train_resampled)\n",
    "\n",
    "# Make predictions on the training set\n",
    "y_train_pred = rf_model.predict(X_train_resampled)\n",
    "\n",
    "# Make predictions on the test set\n",
    "y_test_pred = rf_model.predict(X_test)\n",
    "\n",
    "# Plot the confusion matrix for the training set\n",
    "plt.figure(figsize=(12, 4))\n",
    "\n",
    "plt.subplot(1, 2, 1)\n",
    "cm_train = confusion_matrix(y_train_resampled, y_train_pred)\n",
    "plt.imshow(cm_train, interpolation='nearest', cmap=plt.cm.Blues)\n",
    "plt.title('Confusion Matrix - Training Set')\n",
    "plt.colorbar()\n",
    "# Save  plot as image\n",
    "plt.savefig('conf_matrix_random_forests.png')"
   ]
  },
  {
   "cell_type": "code",
   "execution_count": 85,
   "id": "39b3d133",
   "metadata": {},
   "outputs": [
    {
     "name": "stdout",
     "output_type": "stream",
     "text": [
      "Feature Importance:\n",
      "                Feature  Importance\n",
      "9   soil_aggressivity_3    0.155200\n",
      "5        traffic_load_3    0.149654\n",
      "4        traffic_load_2    0.135451\n",
      "11  stray_electricity_2    0.099120\n",
      "12  stray_electricity_3    0.082905\n",
      "2    soil_consistency_4    0.069728\n",
      "6        traffic_load_4    0.066481\n",
      "1    soil_consistency_3    0.064475\n",
      "13  stray_electricity_4    0.063853\n",
      "3    soil_consistency_5    0.051194\n",
      "0    soil_consistency_2    0.025790\n",
      "8   soil_aggressivity_2    0.018171\n",
      "10  soil_aggressivity_4    0.016157\n",
      "7        traffic_load_5    0.001821\n"
     ]
    }
   ],
   "source": [
    "# Access feature importance scores\n",
    "feature_importance = rf_model.feature_importances_\n",
    "\n",
    "# Create a DataFrame to display feature names and their importance scores\n",
    "feature_importance_df = pd.DataFrame({'Feature': X_train.columns, 'Importance': feature_importance})\n",
    "\n",
    "# Sort the DataFrame by importance scores in descending order\n",
    "feature_importance_df = feature_importance_df.sort_values(by='Importance', ascending=False)\n",
    "\n",
    "# Print or visualize the feature importance\n",
    "print(\"Feature Importance:\")\n",
    "print(feature_importance_df)"
   ]
  },
  {
   "cell_type": "markdown",
   "id": "2ccb1a20",
   "metadata": {},
   "source": [
    "#### Observation and Conclusions: \n",
    "- These scores are normalized and sum up to 1.0, indicating the proportion of importance that each feature contributes to the model.\n",
    "- Higher Importance Score: Features with higher importance scores are considered more influential in predicting the target variable.\n",
    "- Lower Importance Score: Features with lower scores are relatively less important in the model's predictions.\n",
    "- In this instance, 'soil_aggressivity_3', 'traffic_load_3', and 'traffic_load_2' emerge as the most influential features. The identified influential features, such as 'soil_aggressivity_3', 'traffic_load_3', and 'traffic_load_2', may lack clear, direct interpretations in the context of pipe failure.\n",
    "\n",
    "#### It appears that the investigeted model, despite its predictive capability, don't offer a straightforward or intuitive explanation regarding how environmental factors influence the occurrence of failures in pipes. For a clear understanding of the relationships between environmental factors and pipe failure, more advanced interpretability techniques or a different modeling approach may be needed. Additionally, domain expertise and further exploration of the data might provide additional insights."
   ]
  },
  {
   "cell_type": "markdown",
   "id": "8c0b06b0",
   "metadata": {},
   "source": [
    "## 6.2. XGBoost Algorithm, dataset 1"
   ]
  },
  {
   "cell_type": "code",
   "execution_count": 86,
   "id": "f930c4a4",
   "metadata": {},
   "outputs": [],
   "source": [
    "#Train XGBoost Model\n",
    "dtrain = xgb.DMatrix(X_train_resampled, label=y_train_resampled)\n",
    "param = {'objective': 'binary:logistic', 'eval_metric': 'logloss', 'eta': 0.1}\n",
    "num_round = 100\n",
    "model = xgb.train(param, dtrain, num_round)"
   ]
  },
  {
   "cell_type": "code",
   "execution_count": 87,
   "id": "459f6b11",
   "metadata": {},
   "outputs": [],
   "source": [
    "#Make Predictions:\n",
    "dtest = xgb.DMatrix(X_test)\n",
    "y_pred_6 = model.predict(dtest)"
   ]
  },
  {
   "cell_type": "code",
   "execution_count": 88,
   "id": "c2604b51",
   "metadata": {},
   "outputs": [
    {
     "name": "stdout",
     "output_type": "stream",
     "text": [
      "Accuracy: 0.49896561364271735\n",
      "\n",
      "Confusion Matrix:\n",
      " [[8618 8730]\n",
      " [ 231  306]]\n",
      "\n",
      "Classification Report:\n",
      "               precision    recall  f1-score   support\n",
      "\n",
      "           0       0.97      0.50      0.66     17348\n",
      "           1       0.03      0.57      0.06       537\n",
      "\n",
      "    accuracy                           0.50     17885\n",
      "   macro avg       0.50      0.53      0.36     17885\n",
      "weighted avg       0.95      0.50      0.64     17885\n",
      "\n"
     ]
    }
   ],
   "source": [
    "# Assuming y_pred_6 contains predicted probabilities\n",
    "y_pred_binary = (y_pred_6 >= 0.5).astype(int)\n",
    "\n",
    "# Now, you can use accuracy_score and other classification metrics\n",
    "print('Accuracy:', accuracy_score(y_test, y_pred_binary))\n",
    "print('\\nConfusion Matrix:\\n', confusion_matrix(y_test, y_pred_binary))\n",
    "print('\\nClassification Report:\\n', classification_report(y_test, y_pred_binary))"
   ]
  },
  {
   "cell_type": "markdown",
   "id": "a8431ff4",
   "metadata": {},
   "source": [
    "### General Observations:\n",
    "- All three models show relatively low accuracy, precision, recall, and F1-score for predicting failures (class 1).\n",
    "- The models seem to struggle in correctly identifying instances of pipe failure, as indicated by low recall values for class 1.\n",
    "- Precision, which measures the accuracy of the positive predictions, is also very low, suggesting a high number of false positives.\n",
    "- The F1-score, which balances precision and recall, is also low, indicating poor overall model performance.\n",
    "### Conclusion:\n",
    "The models, regardless of the algorithm used, Logistic Regression, Random Forest or XGBoost Algorithm, are not performing well in predicting pipe failures  based on environmental factors. There might be underlying challenges in capturing the patterns or relationships between environmental factors and pipe failures using the given features.To gain a deeper understanding, further exploration using advanced interpretability techniques or alternative modeling approaches is recommended. Additionally, incorporating domain expertise and thorough data exploration may uncover valuable insights to enhance our understanding of the complex dynamics between environmental factors and pipe failures.\n",
    "\n",
    "\n",
    "\n"
   ]
  },
  {
   "cell_type": "code",
   "execution_count": null,
   "id": "3adeda51",
   "metadata": {},
   "outputs": [],
   "source": []
  },
  {
   "cell_type": "code",
   "execution_count": null,
   "id": "a3cefedb",
   "metadata": {},
   "outputs": [],
   "source": []
  }
 ],
 "metadata": {
  "kernelspec": {
   "display_name": "Python 3 (ipykernel)",
   "language": "python",
   "name": "python3"
  },
  "language_info": {
   "codemirror_mode": {
    "name": "ipython",
    "version": 3
   },
   "file_extension": ".py",
   "mimetype": "text/x-python",
   "name": "python",
   "nbconvert_exporter": "python",
   "pygments_lexer": "ipython3",
   "version": "3.11.4"
  }
 },
 "nbformat": 4,
 "nbformat_minor": 5
}
